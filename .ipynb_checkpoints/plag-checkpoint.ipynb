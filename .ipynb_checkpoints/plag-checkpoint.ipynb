{
 "cells": [
  {
   "cell_type": "code",
   "execution_count": 1,
   "metadata": {},
   "outputs": [],
   "source": [
    "from nltk.corpus import wordnet\n",
    "from nltk.tokenize import word_tokenize\n",
    "from random import randint\n",
    "import nltk.data"
   ]
  },
  {
   "cell_type": "code",
   "execution_count": 9,
   "metadata": {},
   "outputs": [
    {
     "name": "stdout",
     "output_type": "stream",
     "text": [
      " Pete feed bombastic cake.Hello ! Jahnavi . Sam big mouth .\n"
     ]
    }
   ],
   "source": [
    "# Load a text file if required\n",
    "text = \"Pete ate large cake.Hello !Jahnavi. Sam big mouth.\"\n",
    "output = \"\"\n",
    "\n",
    "# Load the pretrained neural net\n",
    "tokenizer = nltk.data.load('tokenizers/punkt/english.pickle')\n",
    "#class SynRepace :\n",
    "    # Tokenize the text\n",
    "tokenized = tokenizer.tokenize(text)\n",
    "\n",
    "    # Get the list of words from the entire text\n",
    "words = word_tokenize(text)\n",
    "\n",
    "    # Identify the parts of speech\n",
    "tagged = nltk.pos_tag(words)\n",
    "\n",
    "for i in range(0,len(words)):\n",
    "    replacements = []\n",
    "\n",
    "        # Only replace nouns with nouns, vowels with vowels etc.\n",
    "    for syn in wordnet.synsets(words[i]):\n",
    "\n",
    "            # Do not attempt to replace proper nouns or determiners\n",
    "        if tagged[i][1] == 'NNP' or tagged[i][1] == 'DT':\n",
    "             break\n",
    "\n",
    "            # The tokenizer returns strings like NNP, VBP etc\n",
    "            # but the wordnet synonyms has tags like .n.\n",
    "            # So we extract the first character from NNP ie n\n",
    "            # then we check if the dictionary word has a .n. or not \n",
    "        word_type = tagged[i][1][0].lower()\n",
    "        if syn.name().find(\".\"+word_type+\".\"):\n",
    "                # extract the word only\n",
    "            r = syn.name()[0:syn.name().find(\".\")]\n",
    "            replacements.append(r)\n",
    "\n",
    "    if len(replacements) > 0:\n",
    "            # Choose a random replacement\n",
    "        replacement = replacements[3]\n",
    "        output = output + \" \" + replacement\n",
    "    else:\n",
    "            # If no replacement could be found, then just use the\n",
    "            # original word\n",
    "        output = output + \" \" + words[i]\n",
    "\n",
    "print(output)"
   ]
  },
  {
   "cell_type": "code",
   "execution_count": 10,
   "metadata": {},
   "outputs": [
    {
     "data": {
      "text/plain": [
       "['Pete ate large cake.Hello !Jahnavi.', 'Sam big mouth.']"
      ]
     },
     "execution_count": 10,
     "metadata": {},
     "output_type": "execute_result"
    }
   ],
   "source": [
    "tokenized"
   ]
  },
  {
   "cell_type": "code",
   "execution_count": 11,
   "metadata": {},
   "outputs": [
    {
     "data": {
      "text/plain": [
       "['Pete',\n",
       " 'ate',\n",
       " 'large',\n",
       " 'cake.Hello',\n",
       " '!',\n",
       " 'Jahnavi',\n",
       " '.',\n",
       " 'Sam',\n",
       " 'big',\n",
       " 'mouth',\n",
       " '.']"
      ]
     },
     "execution_count": 11,
     "metadata": {},
     "output_type": "execute_result"
    }
   ],
   "source": [
    "words"
   ]
  },
  {
   "cell_type": "code",
   "execution_count": 12,
   "metadata": {},
   "outputs": [
    {
     "data": {
      "text/plain": [
       "[('Pete', 'NNP'),\n",
       " ('ate', 'VB'),\n",
       " ('large', 'JJ'),\n",
       " ('cake.Hello', 'NN'),\n",
       " ('!', '.'),\n",
       " ('Jahnavi', 'NNP'),\n",
       " ('.', '.'),\n",
       " ('Sam', 'NNP'),\n",
       " ('big', 'JJ'),\n",
       " ('mouth', 'NN'),\n",
       " ('.', '.')]"
      ]
     },
     "execution_count": 12,
     "metadata": {},
     "output_type": "execute_result"
    }
   ],
   "source": [
    "tagged"
   ]
  },
  {
   "cell_type": "code",
   "execution_count": null,
   "metadata": {},
   "outputs": [],
   "source": [
    "class SynReplace :\n",
    "    "
   ]
  }
 ],
 "metadata": {
  "kernelspec": {
   "display_name": "Python 3",
   "language": "python",
   "name": "python3"
  },
  "language_info": {
   "codemirror_mode": {
    "name": "ipython",
    "version": 3
   },
   "file_extension": ".py",
   "mimetype": "text/x-python",
   "name": "python",
   "nbconvert_exporter": "python",
   "pygments_lexer": "ipython3",
   "version": "3.7.1"
  }
 },
 "nbformat": 4,
 "nbformat_minor": 2
}
