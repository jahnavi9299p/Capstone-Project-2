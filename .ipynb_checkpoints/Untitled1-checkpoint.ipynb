{
 "cells": [
  {
   "cell_type": "code",
   "execution_count": 1,
   "metadata": {},
   "outputs": [],
   "source": [
    "import numpy as np\n",
    "import pandas as pd\n",
    "import matplotlib.pyplot as plt\n",
    "import seaborn as sns"
   ]
  },
  {
   "cell_type": "code",
   "execution_count": 2,
   "metadata": {},
   "outputs": [],
   "source": [
    "df = pd.read_csv(\"mbti_1.csv\")"
   ]
  },
  {
   "cell_type": "code",
   "execution_count": 3,
   "metadata": {},
   "outputs": [
    {
     "data": {
      "text/plain": [
       "type     0\n",
       "posts    0\n",
       "dtype: int64"
      ]
     },
     "execution_count": 3,
     "metadata": {},
     "output_type": "execute_result"
    }
   ],
   "source": [
    "missing_values_count = df.isnull().sum()\n",
    "missing_values_count[:]"
   ]
  },
  {
   "cell_type": "code",
   "execution_count": 4,
   "metadata": {},
   "outputs": [
    {
     "data": {
      "text/plain": [
       "<matplotlib.axes._subplots.AxesSubplot at 0x1cf5fc4c780>"
      ]
     },
     "execution_count": 4,
     "metadata": {},
     "output_type": "execute_result"
    },
    {
     "data": {
      "image/png": "[encoded data removed]",
      "text/plain": [
       "<Figure size 720x720 with 1 Axes>"
      ]
     },
     "metadata": {
      "needs_background": "light"
     },
     "output_type": "display_data"
    }
   ],
   "source": [
    "df['type'].value_counts().plot(kind='bar', color='lightblue',figsize=(10,10))"
   ]
  },
  {
   "cell_type": "code",
   "execution_count": 5,
   "metadata": {},
   "outputs": [],
   "source": [
    "dff = pd.DataFrame(df)"
   ]
  },
  {
   "cell_type": "code",
   "execution_count": 6,
   "metadata": {},
   "outputs": [],
   "source": [
    "def count(inposts):\n",
    "    return len(inposts.split('|||'))\n",
    "dff['count'] = np.vectorize(count)(df['posts'])"
   ]
  },
  {
   "cell_type": "code",
   "execution_count": 7,
   "metadata": {},
   "outputs": [
    {
     "data": {
      "text/html": [
       "<div>\n",
       "<style scoped>\n",
       "    .dataframe tbody tr th:only-of-type {\n",
       "        vertical-align: middle;\n",
       "    }\n",
       "\n",
       "    .dataframe tbody tr th {\n",
       "        vertical-align: top;\n",
       "    }\n",
       "\n",
       "    .dataframe thead th {\n",
       "        text-align: right;\n",
       "    }\n",
       "</style>\n",
       "<table border=\"1\" class=\"dataframe\">\n",
       "  <thead>\n",
       "    <tr style=\"text-align: right;\">\n",
       "      <th></th>\n",
       "      <th>type</th>\n",
       "      <th>posts</th>\n",
       "      <th>count</th>\n",
       "    </tr>\n",
       "  </thead>\n",
       "  <tbody>\n",
       "    <tr>\n",
       "      <th>0</th>\n",
       "      <td>INFJ</td>\n",
       "      <td>'http://www.youtube.com/watch?v=qsXHcwe3krw|||...</td>\n",
       "      <td>50</td>\n",
       "    </tr>\n",
       "    <tr>\n",
       "      <th>1</th>\n",
       "      <td>ENTP</td>\n",
       "      <td>'I'm finding the lack of me in these posts ver...</td>\n",
       "      <td>50</td>\n",
       "    </tr>\n",
       "    <tr>\n",
       "      <th>2</th>\n",
       "      <td>INTP</td>\n",
       "      <td>'Good one  _____   https://www.youtube.com/wat...</td>\n",
       "      <td>50</td>\n",
       "    </tr>\n",
       "    <tr>\n",
       "      <th>3</th>\n",
       "      <td>INTJ</td>\n",
       "      <td>'Dear INTP,   I enjoyed our conversation the o...</td>\n",
       "      <td>50</td>\n",
       "    </tr>\n",
       "    <tr>\n",
       "      <th>4</th>\n",
       "      <td>ENTJ</td>\n",
       "      <td>'You're fired.|||That's another silly misconce...</td>\n",
       "      <td>50</td>\n",
       "    </tr>\n",
       "    <tr>\n",
       "      <th>5</th>\n",
       "      <td>INTJ</td>\n",
       "      <td>'18/37 @.@|||Science  is not perfect. No scien...</td>\n",
       "      <td>50</td>\n",
       "    </tr>\n",
       "    <tr>\n",
       "      <th>6</th>\n",
       "      <td>INFJ</td>\n",
       "      <td>'No, I can't draw on my own nails (haha). Thos...</td>\n",
       "      <td>50</td>\n",
       "    </tr>\n",
       "    <tr>\n",
       "      <th>7</th>\n",
       "      <td>INTJ</td>\n",
       "      <td>'I tend to build up a collection of things on ...</td>\n",
       "      <td>50</td>\n",
       "    </tr>\n",
       "    <tr>\n",
       "      <th>8</th>\n",
       "      <td>INFJ</td>\n",
       "      <td>I'm not sure, that's a good question. The dist...</td>\n",
       "      <td>50</td>\n",
       "    </tr>\n",
       "    <tr>\n",
       "      <th>9</th>\n",
       "      <td>INTP</td>\n",
       "      <td>'https://www.youtube.com/watch?v=w8-egj0y8Qs||...</td>\n",
       "      <td>50</td>\n",
       "    </tr>\n",
       "    <tr>\n",
       "      <th>10</th>\n",
       "      <td>INFJ</td>\n",
       "      <td>'One time my parents were fighting over my dad...</td>\n",
       "      <td>50</td>\n",
       "    </tr>\n",
       "    <tr>\n",
       "      <th>11</th>\n",
       "      <td>ENFJ</td>\n",
       "      <td>'https://www.youtube.com/watch?v=PLAaiKvHvZs||...</td>\n",
       "      <td>43</td>\n",
       "    </tr>\n",
       "    <tr>\n",
       "      <th>12</th>\n",
       "      <td>INFJ</td>\n",
       "      <td>'Joe santagato - ENTP|||ENFJ or  ENTP?   I'm n...</td>\n",
       "      <td>50</td>\n",
       "    </tr>\n",
       "    <tr>\n",
       "      <th>13</th>\n",
       "      <td>INTJ</td>\n",
       "      <td>'Fair enough, if that's how you want to look a...</td>\n",
       "      <td>50</td>\n",
       "    </tr>\n",
       "    <tr>\n",
       "      <th>14</th>\n",
       "      <td>INTP</td>\n",
       "      <td>'Basically this...  https://youtu.be/1pH5c1Jkh...</td>\n",
       "      <td>50</td>\n",
       "    </tr>\n",
       "    <tr>\n",
       "      <th>15</th>\n",
       "      <td>INTP</td>\n",
       "      <td>'Your comment screams INTJ, bro. Especially th...</td>\n",
       "      <td>50</td>\n",
       "    </tr>\n",
       "    <tr>\n",
       "      <th>16</th>\n",
       "      <td>INFJ</td>\n",
       "      <td>'some of these both excite and calm me:  BUTTS...</td>\n",
       "      <td>49</td>\n",
       "    </tr>\n",
       "    <tr>\n",
       "      <th>17</th>\n",
       "      <td>INFP</td>\n",
       "      <td>'I think we do agree. I personally don't consi...</td>\n",
       "      <td>50</td>\n",
       "    </tr>\n",
       "    <tr>\n",
       "      <th>18</th>\n",
       "      <td>INFJ</td>\n",
       "      <td>'I fully believe in the power of being a prote...</td>\n",
       "      <td>50</td>\n",
       "    </tr>\n",
       "    <tr>\n",
       "      <th>19</th>\n",
       "      <td>INFP</td>\n",
       "      <td>'That's normal, it happens also to me. If I am...</td>\n",
       "      <td>50</td>\n",
       "    </tr>\n",
       "    <tr>\n",
       "      <th>20</th>\n",
       "      <td>INTP</td>\n",
       "      <td>'Steve Job's was recognized for his striving f...</td>\n",
       "      <td>50</td>\n",
       "    </tr>\n",
       "    <tr>\n",
       "      <th>21</th>\n",
       "      <td>INFJ</td>\n",
       "      <td>'It is very annoying to be misinterpreted. Esp...</td>\n",
       "      <td>50</td>\n",
       "    </tr>\n",
       "    <tr>\n",
       "      <th>22</th>\n",
       "      <td>ENTJ</td>\n",
       "      <td>'Now I'm interested. But too lazy to go resear...</td>\n",
       "      <td>50</td>\n",
       "    </tr>\n",
       "    <tr>\n",
       "      <th>23</th>\n",
       "      <td>INFP</td>\n",
       "      <td>'45016 urh sorry uh. couldn't resist.|||all of...</td>\n",
       "      <td>28</td>\n",
       "    </tr>\n",
       "    <tr>\n",
       "      <th>24</th>\n",
       "      <td>ENTJ</td>\n",
       "      <td>'Still going strong at just over the two year ...</td>\n",
       "      <td>50</td>\n",
       "    </tr>\n",
       "    <tr>\n",
       "      <th>25</th>\n",
       "      <td>INFP</td>\n",
       "      <td>'Personally, I was thinking this would be more...</td>\n",
       "      <td>50</td>\n",
       "    </tr>\n",
       "    <tr>\n",
       "      <th>26</th>\n",
       "      <td>ENFP</td>\n",
       "      <td>'He doesn't want to go on the trip without me,...</td>\n",
       "      <td>50</td>\n",
       "    </tr>\n",
       "    <tr>\n",
       "      <th>27</th>\n",
       "      <td>ISFP</td>\n",
       "      <td>'They paint without numbers|||I'd guess at ist...</td>\n",
       "      <td>50</td>\n",
       "    </tr>\n",
       "    <tr>\n",
       "      <th>28</th>\n",
       "      <td>INFP</td>\n",
       "      <td>'Basically, my main questions are : What do yo...</td>\n",
       "      <td>48</td>\n",
       "    </tr>\n",
       "    <tr>\n",
       "      <th>29</th>\n",
       "      <td>INFJ</td>\n",
       "      <td>'I think that that can absolutely be true of i...</td>\n",
       "      <td>50</td>\n",
       "    </tr>\n",
       "    <tr>\n",
       "      <th>...</th>\n",
       "      <td>...</td>\n",
       "      <td>...</td>\n",
       "      <td>...</td>\n",
       "    </tr>\n",
       "    <tr>\n",
       "      <th>8645</th>\n",
       "      <td>INFJ</td>\n",
       "      <td>'I play cello, and I'm also a classically trai...</td>\n",
       "      <td>50</td>\n",
       "    </tr>\n",
       "    <tr>\n",
       "      <th>8646</th>\n",
       "      <td>INFP</td>\n",
       "      <td>Its more or less based on how YOU experienced ...</td>\n",
       "      <td>50</td>\n",
       "    </tr>\n",
       "    <tr>\n",
       "      <th>8647</th>\n",
       "      <td>INTP</td>\n",
       "      <td>Socionics picked up on this.  They call it vis...</td>\n",
       "      <td>50</td>\n",
       "    </tr>\n",
       "    <tr>\n",
       "      <th>8648</th>\n",
       "      <td>INFP</td>\n",
       "      <td>'Good advice, thank you.|||I am in a tough sit...</td>\n",
       "      <td>50</td>\n",
       "    </tr>\n",
       "    <tr>\n",
       "      <th>8649</th>\n",
       "      <td>INFP</td>\n",
       "      <td>https://www.youtube.com/watch?v=nPDusM-75FE  e...</td>\n",
       "      <td>50</td>\n",
       "    </tr>\n",
       "    <tr>\n",
       "      <th>8650</th>\n",
       "      <td>INFJ</td>\n",
       "      <td>'I think the real question is whether INFJs ca...</td>\n",
       "      <td>50</td>\n",
       "    </tr>\n",
       "    <tr>\n",
       "      <th>8651</th>\n",
       "      <td>ISTP</td>\n",
       "      <td>'-Being alone -Being insensitive  -Over thinki...</td>\n",
       "      <td>50</td>\n",
       "    </tr>\n",
       "    <tr>\n",
       "      <th>8652</th>\n",
       "      <td>ISFJ</td>\n",
       "      <td>'Being assertive and standing up for myself is...</td>\n",
       "      <td>50</td>\n",
       "    </tr>\n",
       "    <tr>\n",
       "      <th>8653</th>\n",
       "      <td>INFP</td>\n",
       "      <td>'You should do whatever it is you want. If you...</td>\n",
       "      <td>50</td>\n",
       "    </tr>\n",
       "    <tr>\n",
       "      <th>8654</th>\n",
       "      <td>ISTJ</td>\n",
       "      <td>'Assuming I had a hand in it, I always at leas...</td>\n",
       "      <td>50</td>\n",
       "    </tr>\n",
       "    <tr>\n",
       "      <th>8655</th>\n",
       "      <td>INFJ</td>\n",
       "      <td>'I find that poster and your facial expression...</td>\n",
       "      <td>50</td>\n",
       "    </tr>\n",
       "    <tr>\n",
       "      <th>8656</th>\n",
       "      <td>INFJ</td>\n",
       "      <td>Rim  In some approximate order, it seems like ...</td>\n",
       "      <td>50</td>\n",
       "    </tr>\n",
       "    <tr>\n",
       "      <th>8657</th>\n",
       "      <td>INTJ</td>\n",
       "      <td>Social  1) Generally, I positively associate w...</td>\n",
       "      <td>50</td>\n",
       "    </tr>\n",
       "    <tr>\n",
       "      <th>8658</th>\n",
       "      <td>ESFJ</td>\n",
       "      <td>'Don't worry, I do that too when a car comes c...</td>\n",
       "      <td>50</td>\n",
       "    </tr>\n",
       "    <tr>\n",
       "      <th>8659</th>\n",
       "      <td>ENFP</td>\n",
       "      <td>'leoni I had really bad social anxiety until I...</td>\n",
       "      <td>50</td>\n",
       "    </tr>\n",
       "    <tr>\n",
       "      <th>8660</th>\n",
       "      <td>INFP</td>\n",
       "      <td>'I love the vastness of the sky, because my pr...</td>\n",
       "      <td>50</td>\n",
       "    </tr>\n",
       "    <tr>\n",
       "      <th>8661</th>\n",
       "      <td>ENTP</td>\n",
       "      <td>'**haven't logged in and read posts for over 6...</td>\n",
       "      <td>50</td>\n",
       "    </tr>\n",
       "    <tr>\n",
       "      <th>8662</th>\n",
       "      <td>INTJ</td>\n",
       "      <td>'I can't say I have any one specific belief. I...</td>\n",
       "      <td>50</td>\n",
       "    </tr>\n",
       "    <tr>\n",
       "      <th>8663</th>\n",
       "      <td>INTP</td>\n",
       "      <td>'doesn't matter, you don't have a choice, Elec...</td>\n",
       "      <td>50</td>\n",
       "    </tr>\n",
       "    <tr>\n",
       "      <th>8664</th>\n",
       "      <td>INTP</td>\n",
       "      <td>'https://www.youtube.com/watch?v=7zsMdi714mI||...</td>\n",
       "      <td>37</td>\n",
       "    </tr>\n",
       "    <tr>\n",
       "      <th>8665</th>\n",
       "      <td>ENTP</td>\n",
       "      <td>'This test wasn't even close on my gender, age...</td>\n",
       "      <td>50</td>\n",
       "    </tr>\n",
       "    <tr>\n",
       "      <th>8666</th>\n",
       "      <td>INTJ</td>\n",
       "      <td>'Highly recommend this to those who wants to t...</td>\n",
       "      <td>50</td>\n",
       "    </tr>\n",
       "    <tr>\n",
       "      <th>8667</th>\n",
       "      <td>ENTP</td>\n",
       "      <td>'I think generally people experience post trau...</td>\n",
       "      <td>50</td>\n",
       "    </tr>\n",
       "    <tr>\n",
       "      <th>8668</th>\n",
       "      <td>INTJ</td>\n",
       "      <td>'Here's a planned stress relieving activity th...</td>\n",
       "      <td>50</td>\n",
       "    </tr>\n",
       "    <tr>\n",
       "      <th>8669</th>\n",
       "      <td>INFJ</td>\n",
       "      <td>'I'm not sure about a method for picking out I...</td>\n",
       "      <td>50</td>\n",
       "    </tr>\n",
       "    <tr>\n",
       "      <th>8670</th>\n",
       "      <td>ISFP</td>\n",
       "      <td>'https://www.youtube.com/watch?v=t8edHB_h908||...</td>\n",
       "      <td>50</td>\n",
       "    </tr>\n",
       "    <tr>\n",
       "      <th>8671</th>\n",
       "      <td>ENFP</td>\n",
       "      <td>'So...if this thread already exists someplace ...</td>\n",
       "      <td>50</td>\n",
       "    </tr>\n",
       "    <tr>\n",
       "      <th>8672</th>\n",
       "      <td>INTP</td>\n",
       "      <td>'So many questions when i do these things.  I ...</td>\n",
       "      <td>50</td>\n",
       "    </tr>\n",
       "    <tr>\n",
       "      <th>8673</th>\n",
       "      <td>INFP</td>\n",
       "      <td>'I am very conflicted right now when it comes ...</td>\n",
       "      <td>50</td>\n",
       "    </tr>\n",
       "    <tr>\n",
       "      <th>8674</th>\n",
       "      <td>INFP</td>\n",
       "      <td>'It has been too long since I have been on per...</td>\n",
       "      <td>50</td>\n",
       "    </tr>\n",
       "  </tbody>\n",
       "</table>\n",
       "<p>8675 rows × 3 columns</p>\n",
       "</div>"
      ],
      "text/plain": [
       "      type                                              posts  count\n",
       "0     INFJ  'http://www.youtube.com/watch?v=qsXHcwe3krw|||...     50\n",
       "1     ENTP  'I'm finding the lack of me in these posts ver...     50\n",
       "2     INTP  'Good one  _____   https://www.youtube.com/wat...     50\n",
       "3     INTJ  'Dear INTP,   I enjoyed our conversation the o...     50\n",
       "4     ENTJ  'You're fired.|||That's another silly misconce...     50\n",
       "5     INTJ  '18/37 @.@|||Science  is not perfect. No scien...     50\n",
       "6     INFJ  'No, I can't draw on my own nails (haha). Thos...     50\n",
       "7     INTJ  'I tend to build up a collection of things on ...     50\n",
       "8     INFJ  I'm not sure, that's a good question. The dist...     50\n",
       "9     INTP  'https://www.youtube.com/watch?v=w8-egj0y8Qs||...     50\n",
       "10    INFJ  'One time my parents were fighting over my dad...     50\n",
       "11    ENFJ  'https://www.youtube.com/watch?v=PLAaiKvHvZs||...     43\n",
       "12    INFJ  'Joe santagato - ENTP|||ENFJ or  ENTP?   I'm n...     50\n",
       "13    INTJ  'Fair enough, if that's how you want to look a...     50\n",
       "14    INTP  'Basically this...  https://youtu.be/1pH5c1Jkh...     50\n",
       "15    INTP  'Your comment screams INTJ, bro. Especially th...     50\n",
       "16    INFJ  'some of these both excite and calm me:  BUTTS...     49\n",
       "17    INFP  'I think we do agree. I personally don't consi...     50\n",
       "18    INFJ  'I fully believe in the power of being a prote...     50\n",
       "19    INFP  'That's normal, it happens also to me. If I am...     50\n",
       "20    INTP  'Steve Job's was recognized for his striving f...     50\n",
       "21    INFJ  'It is very annoying to be misinterpreted. Esp...     50\n",
       "22    ENTJ  'Now I'm interested. But too lazy to go resear...     50\n",
       "23    INFP  '45016 urh sorry uh. couldn't resist.|||all of...     28\n",
       "24    ENTJ  'Still going strong at just over the two year ...     50\n",
       "25    INFP  'Personally, I was thinking this would be more...     50\n",
       "26    ENFP  'He doesn't want to go on the trip without me,...     50\n",
       "27    ISFP  'They paint without numbers|||I'd guess at ist...     50\n",
       "28    INFP  'Basically, my main questions are : What do yo...     48\n",
       "29    INFJ  'I think that that can absolutely be true of i...     50\n",
       "...    ...                                                ...    ...\n",
       "8645  INFJ  'I play cello, and I'm also a classically trai...     50\n",
       "8646  INFP  Its more or less based on how YOU experienced ...     50\n",
       "8647  INTP  Socionics picked up on this.  They call it vis...     50\n",
       "8648  INFP  'Good advice, thank you.|||I am in a tough sit...     50\n",
       "8649  INFP  https://www.youtube.com/watch?v=nPDusM-75FE  e...     50\n",
       "8650  INFJ  'I think the real question is whether INFJs ca...     50\n",
       "8651  ISTP  '-Being alone -Being insensitive  -Over thinki...     50\n",
       "8652  ISFJ  'Being assertive and standing up for myself is...     50\n",
       "8653  INFP  'You should do whatever it is you want. If you...     50\n",
       "8654  ISTJ  'Assuming I had a hand in it, I always at leas...     50\n",
       "8655  INFJ  'I find that poster and your facial expression...     50\n",
       "8656  INFJ  Rim  In some approximate order, it seems like ...     50\n",
       "8657  INTJ  Social  1) Generally, I positively associate w...     50\n",
       "8658  ESFJ  'Don't worry, I do that too when a car comes c...     50\n",
       "8659  ENFP  'leoni I had really bad social anxiety until I...     50\n",
       "8660  INFP  'I love the vastness of the sky, because my pr...     50\n",
       "8661  ENTP  '**haven't logged in and read posts for over 6...     50\n",
       "8662  INTJ  'I can't say I have any one specific belief. I...     50\n",
       "8663  INTP  'doesn't matter, you don't have a choice, Elec...     50\n",
       "8664  INTP  'https://www.youtube.com/watch?v=7zsMdi714mI||...     37\n",
       "8665  ENTP  'This test wasn't even close on my gender, age...     50\n",
       "8666  INTJ  'Highly recommend this to those who wants to t...     50\n",
       "8667  ENTP  'I think generally people experience post trau...     50\n",
       "8668  INTJ  'Here's a planned stress relieving activity th...     50\n",
       "8669  INFJ  'I'm not sure about a method for picking out I...     50\n",
       "8670  ISFP  'https://www.youtube.com/watch?v=t8edHB_h908||...     50\n",
       "8671  ENFP  'So...if this thread already exists someplace ...     50\n",
       "8672  INTP  'So many questions when i do these things.  I ...     50\n",
       "8673  INFP  'I am very conflicted right now when it comes ...     50\n",
       "8674  INFP  'It has been too long since I have been on per...     50\n",
       "\n",
       "[8675 rows x 3 columns]"
      ]
     },
     "execution_count": 7,
     "metadata": {},
     "output_type": "execute_result"
    }
   ],
   "source": [
    "dff"
   ]
  },
  {
   "cell_type": "code",
   "execution_count": 8,
   "metadata": {},
   "outputs": [],
   "source": [
    "import re"
   ]
  },
  {
   "cell_type": "code",
   "execution_count": 9,
   "metadata": {},
   "outputs": [],
   "source": [
    "stop_dict = {}\n",
    "swords = [\n",
    "    'is','was',\n",
    " 'are','were',\n",
    " 'this',\n",
    " 'that',\n",
    " 'these',\n",
    " 'those',\n",
    " 'a','an','the','and','but','if','or','because','as',\n",
    " 'until','while','of','at','by','for','with','about',\n",
    " 'against','between',\n",
    " 'into','through',\n",
    " 'during','before','after',\n",
    " 'above','below',\n",
    " 'to','from',\n",
    " 'up','down',\n",
    " 'in','out',\n",
    " 'on','off',\n",
    " 'over','under',\n",
    " 'again','further','then','once',\n",
    " 'here','there',\n",
    " 'all','any','both','each','few','more','most','other','some','such',\n",
    " 'only',\n",
    " 'own','same','so','than','too','very',\n",
    " 's','t',\n",
    " 'can','will','ll',\n",
    " 'just',\n",
    " 'don',\"don't\",\n",
    " 'should',\"should've\",\n",
    " 'now',\n",
    " 'd','m','o',\n",
    " 're',\n",
    " 've',\n",
    " 'y',\n",
    " 'ain','aren',\"aren't\",\n",
    "  'ma',\n",
    "    'wasn',\"wasn't\",\n",
    " 'weren',\"weren't\",\n",
    " 'won',\"won't\",'wouldn',\"wouldn't\",\n",
    "    'infj', 'entp', 'intp', 'intj', 'entj', 'enfj', 'infp', 'enfp',\n",
    "       'isfp', 'istp', 'isfj', 'istj', 'estp', 'esfp', 'estj', 'esfj',\n",
    "    'infjs', 'entps', 'intps', 'intjs', 'entjs', 'enfjs', 'infps', 'enfps',\n",
    "       'isfps', 'istps', 'isfjs', 'istjs', 'estps', 'esfps', 'estjs', 'esfjs'\n",
    "]"
   ]
  },
  {
   "cell_type": "code",
   "execution_count": 10,
   "metadata": {},
   "outputs": [],
   "source": [
    "you = ['you','your','yours','yourself','yourselves']\n",
    "i = ['i','me','my','myself','am']\n",
    "he = ['he','him','his','himself']\n",
    "she = ['she',\"she's\",'her','hers','herself']\n",
    "we = ['we','our','ours','ourselves']\n",
    "it = ['it',\"it's\",'its','itself']\n",
    "they = ['they','them','their','theirs','themselves']\n",
    "be = ['be','been','being']\n",
    "have = ['have','has','had','having']\n",
    "do = ['do','does','did','doing']\n",
    "quantity  = ['all','any','both','each','few','more','most','other','some','such']\n",
    "question = ['what','which','who','whom','when','where','why','how']\n",
    "no = ['no','nor','not']\n",
    "must = ['must','might']\n",
    "shall = ['shan',\"shan't\",'shouldn',\"shouldn't\",'shall']\n",
    "will = ['won',\"won't\",'wouldn',\"wouldn't\",'will']"
   ]
  },
  {
   "cell_type": "code",
   "execution_count": 11,
   "metadata": {},
   "outputs": [],
   "source": [
    "extra = [you , i , he , she , we , it , they , be , have , quantity , question]\n",
    "for e in extra:\n",
    "    swords.extend(e)"
   ]
  },
  {
   "cell_type": "code",
   "execution_count": 12,
   "metadata": {},
   "outputs": [],
   "source": [
    "def cleanPosts( posts ) :\n",
    "    posts = re.sub( r'\\|\\|\\|', r' ', posts ) \n",
    "    phrase = re.sub( r'http\\S+', r'', posts )\n",
    "    # dealing specific contractions\n",
    "    phrase = re.sub(r\"won\\'t\", \"will not\", phrase)\n",
    "    phrase = re.sub(r\"can\\'t\", \"can not\", phrase)\n",
    "    phrase = re.sub(r\"hasn\\'t\", \"has not\", phrase)\n",
    "    # dealing general contractions\n",
    "    phrase = re.sub(r\"n\\'t\", \" not\", phrase)\n",
    "    phrase = re.sub(r\"\\'re\", \" are\", phrase)\n",
    "    phrase = re.sub(r\"\\'s\", \" is\", phrase)\n",
    "    phrase = re.sub(r\"\\'d\", \" would\", phrase)\n",
    "    phrase = re.sub(r\"\\'ll\", \" will\", phrase)\n",
    "    phrase = re.sub(r\"\\'t\", \" not\", phrase)\n",
    "    phrase = re.sub(r\"\\'ve\", \" have\", phrase)\n",
    "    posts = re.sub(r\"\\'m\", \" am\", phrase)\n",
    "    posts = re.sub( r'(\\.)(\\;)|(\\:)|(\\!)|(\\')|(\\?)|(\\,)|(\\\")|(\\()|(\\))|(\\[)|(\\])|(\\d+)|(\\@)|(\\_)|(\\-)|(\\+)|(\\*)|(\\/)|(\\#)|(\\&)|(\\$)|(\\{)|(\\})',' ', posts )\n",
    "    posts = posts.lower()\n",
    "    return posts"
   ]
  },
  {
   "cell_type": "code",
   "execution_count": 13,
   "metadata": {},
   "outputs": [],
   "source": [
    "p = \"\"\"'Good one  _____   https://www.youtube.com/watch?v=fHiGbolFFGw|||\n",
    "Of course, to which I say I know; that's my blessing and my curse.|||\n",
    "Does being absolutely positive that you and your best friend could be an amazing couple count? If so, than yes.   Or it's more I could be madly in love in case I reconciled my feelings (which at...|||\n",
    "No, I didn't; thank you for a link!|||\n",
    "So-called Ti-Si loop (and it can stem from any current topic/obsession) can be deadly. It's like when you're stuck in your own thoughts, and your mind just wanders in circles. Feels truly terrible. ...|||\n",
    "Have you noticed how peculiar vegetation can be? All you have to do is look down at the grass: dozens of different plant species there.    And now imagine that hundreds of years later (when/if soil...|||\n",
    "The Smiths – Never Had No One Ever|||\n",
    "I often find myself spotting faces on marble tiles/wood.|||\n",
    "This 5 year-old sentence is an incredibly accurate and beautiful description.|||\n",
    "I haven't visited this website in the last 3 years. So whoever reads this (and maybe even remembers me, which I highly doubt): hi.  700049  700057|||When you sit in your garden until 10:30 PM writing songs, and sing them (together with dozens of crickets) while playing your acoustic guitar.|||\n",
    "This is the most INTP-ish thread I've ever seen.|||\n",
    "I wouldn't be able to look at the painting for the entire life if I knew that I picked it over the human being.|||\n",
    "I was drawing a background for my animation on which I'm working right now - it should have been Mars.. But I felt obligated to make Mark Watneyx92s postcard from it :D  If you read the book...|||\n",
    "I started to make comics about turtle Gordon and unicorn Chimes - here you can see two first stories: https://www.tumblr.com/blog/-alexxxandra-|||\n",
    "INTJ Recently I started to post my comics about two friends - turtle Gordon and unicorn Chimes. Before that, I just posted stuff that interested me, but from now on I'll try to include only my works...|||\n",
    "Probably we could work together on a new model - I'm an expert in abrupt explosions of laughter upon various weird stuff. That happens because of peculiar sense of humor - so peculiar that not much...|||\n",
    "Hellooo Nah, you can touch it. Everyone thinks that it's scared or sad, but that's not true - in fact it has an absolutely neutral face. And this kitten actually really likes patting and hugs (only...|||Well.. kind of; As it was already mentioned, sometimes because of Ni it's hard to convey complex stuff which pops up in your head in whimsical compilations of shapes and pictures only with words....|||\n",
    "I think this kitten would be very appropriate here.  376562|||367034|||\n",
    "GOOD NIGHT everyone out there! Even if for someone there is morning right now - nights always supersede mornings.. And people say good night in order to meet next day :)|||\n",
    "Oh, that movie :) It's awesome Thank you! Hope you had good sleep in the air; anyway, I'm wishing you good night for the next night ahead! (hopefully it will be on land)  Good people deserve good...|||\n",
    "358882  358890|||\n",
    "Well, other people who may be wondering about an issue from the name of the topic will find your response helpful anyway :)|||\n",
    "This. Finally someone mentioned that :)|||\n",
    "I still see creatures/faces in a maze of various random patterns. It can be amusing sometimes.  It's a very handy skill when you're bored.|||\n",
    "Oh, I didn't know that.. What a pity.  Why not sacrifice whole supermarket, then? We can decide which Walmart will be the best (I think the biggest one would be great).|||\n",
    "yippy  Here you go  357002  He thinks that the fire is delicious. Should I sacrifice tofu? I don't like to waste food.|||I don't think that the creator of this thread cares what's going on here after 3 years :)|||\n",
    "Heh, I understand you :) With these same given languages)))|||\n",
    "Yessss, Adventure Time :D|||\n",
    "I get angry quite rarely, but when I do, it's safer for surrounding people to go somewhere else. It's impossible for me to hide or suppress anger; the only way to get rid of this feeling is to burst...|||\n",
    "I've never liked it  Anything fake is bad, actually.|||\n",
    "Hugs should be given only to chosen ones. Chosen. There are quite few of them, though.|||349890|||\n",
    "Yup, you're doing it right :)|||\n",
    "http://-alexxxandra-.tumblr.com/|||256818|||\n",
    "Of course it's not very comfortable.  But. Human race survived thankfully women's ability to give birth to other human beings. It worked for thousands of years. Why change it? Besides, there are...|||\n",
    "That happens. And it occurs because most often people use results of extremely precise and elaborate online tests as a basis of determining one's type.      Both visual and language arts (more...|||246386|||\n",
    "I study graphic design now, which I really enjoy. What is interesting about this field, is that the ability to generate ideas and solve problems is much more important than possession of a specific...|||\n",
    "Alexxxandra97 - DeviantArt|||236994|||http://www.youtube.com/watch?v=2Nkcn8m9M0M|||\n",
    "I am always ready to discipline (to intimidate, to be precise) my sibling's offender.|||\n",
    "World domination? Shooting people in the head? Why?  Oh, right, INTJs always must be characterised only with these words.     I want to show so badly my reaction to this: 221226|||218106|||ISTP?   http://www.youtube.com/watch?v=7ghqoYxmaUE\"\"\""
   ]
  },
  {
   "cell_type": "code",
   "execution_count": 14,
   "metadata": {},
   "outputs": [
    {
     "data": {
      "text/plain": [
       "5302"
      ]
     },
     "execution_count": 14,
     "metadata": {},
     "output_type": "execute_result"
    }
   ],
   "source": [
    "len(p)"
   ]
  },
  {
   "cell_type": "code",
   "execution_count": 15,
   "metadata": {},
   "outputs": [],
   "source": [
    "bog = {}\n",
    "# for j in you :\n",
    "#     bog[j] = 'you'\n",
    "# for j in i :\n",
    "#     bog[j] = 'i'\n",
    "# for j in we :\n",
    "#     bog[j] = 'we'\n",
    "# for j in he :\n",
    "#     bog[j] = 'he'\n",
    "# for j in she :\n",
    "#     bog[j] = 'she'\n",
    "# for j in it :\n",
    "#     bog[j] = 'it'\n",
    "# for j in they :\n",
    "#     bog[j] = 'they'\n",
    "# for j in be :\n",
    "#     bog[j] = 'be'\n",
    "# for j in have :\n",
    "#     bog[j] = 'have'\n",
    "# for j in quantity :\n",
    "#     bog[j] = 'quantity'\n",
    "# for j in question :\n",
    "#     bog[j] = 'question'\n",
    "for j in do :\n",
    "    bog[j] = 'do'\n",
    "for j in no :\n",
    "    bog[j] = 'no'\n",
    "for j in must :\n",
    "    bog[j] = 'must'\n",
    "for j in shall :\n",
    "    bog[j] = 'shall'\n",
    "for j in will :\n",
    "    bog[j] = 'will'"
   ]
  },
  {
   "cell_type": "code",
   "execution_count": 16,
   "metadata": {},
   "outputs": [
    {
     "data": {
      "text/plain": [
       "{'do': 'do',\n",
       " 'does': 'do',\n",
       " 'did': 'do',\n",
       " 'doing': 'do',\n",
       " 'no': 'no',\n",
       " 'nor': 'no',\n",
       " 'not': 'no',\n",
       " 'must': 'must',\n",
       " 'might': 'must',\n",
       " 'shan': 'shall',\n",
       " \"shan't\": 'shall',\n",
       " 'shouldn': 'shall',\n",
       " \"shouldn't\": 'shall',\n",
       " 'shall': 'shall',\n",
       " 'won': 'will',\n",
       " \"won't\": 'will',\n",
       " 'wouldn': 'will',\n",
       " \"wouldn't\": 'will',\n",
       " 'will': 'will'}"
      ]
     },
     "execution_count": 16,
     "metadata": {},
     "output_type": "execute_result"
    }
   ],
   "source": [
    "bog"
   ]
  },
  {
   "cell_type": "code",
   "execution_count": 32,
   "metadata": {},
   "outputs": [
    {
     "data": {
      "text/plain": [
       "['do',\n",
       " 'does',\n",
       " 'did',\n",
       " 'doing',\n",
       " 'no',\n",
       " 'nor',\n",
       " 'not',\n",
       " 'must',\n",
       " 'might',\n",
       " 'shan',\n",
       " \"shan't\",\n",
       " 'shouldn',\n",
       " \"shouldn't\",\n",
       " 'shall',\n",
       " 'won',\n",
       " \"won't\",\n",
       " 'wouldn',\n",
       " \"wouldn't\",\n",
       " 'will']"
      ]
     },
     "execution_count": 32,
     "metadata": {},
     "output_type": "execute_result"
    }
   ],
   "source": [
    "list(bog.keys())"
   ]
  },
  {
   "cell_type": "code",
   "execution_count": 33,
   "metadata": {},
   "outputs": [
    {
     "name": "stderr",
     "output_type": "stream",
     "text": [
      "[nltk_data] Error loading stopwords: <urlopen error [Errno 11001]\n",
      "[nltk_data]     getaddrinfo failed>\n",
      "[nltk_data] Error loading wordnet: <urlopen error [Errno 11001]\n",
      "[nltk_data]     getaddrinfo failed>\n"
     ]
    },
    {
     "data": {
      "text/plain": [
       "False"
      ]
     },
     "execution_count": 33,
     "metadata": {},
     "output_type": "execute_result"
    }
   ],
   "source": [
    "from nltk.stem import PorterStemmer, WordNetLemmatizer\n",
    "from nltk.corpus import stopwords \n",
    "from nltk import word_tokenize\n",
    "import nltk\n",
    "nltk.download('stopwords')\n",
    "nltk.download('wordnet')"
   ]
  },
  {
   "cell_type": "code",
   "execution_count": 34,
   "metadata": {},
   "outputs": [],
   "source": [
    "# # tokenize into words\n",
    "# tokens = [word for sent in nltk.sent_tokenize(p) for word in nltk.word_tokenize(sent)]\n",
    "    \n",
    "# #substitute token with values of bog\n",
    "# tokens1 = [bog[token] for token in tokens if token in list(bog.keys())]\n",
    "# tokens1"
   ]
  },
  {
   "cell_type": "code",
   "execution_count": 35,
   "metadata": {},
   "outputs": [],
   "source": [
    "import re\n",
    "from nltk.corpus import wordnet\n",
    "class RepeatReplacer(object):\n",
    "    def __init__(self):\n",
    "        self.repeat_regexp = re.compile(r'(\\w*)(\\w)\\2(\\w*)')\n",
    "        self.repl = r'\\1\\2\\3'\n",
    "    def replace(self, word):\n",
    "        if wordnet.synsets(word):\n",
    "            return word\n",
    "        repl_word = self.repeat_regexp.sub(self.repl, word)\n",
    "        if repl_word != word:\n",
    "            return self.replace(repl_word)\n",
    "        else:\n",
    "            return repl_word"
   ]
  },
  {
   "cell_type": "code",
   "execution_count": 36,
   "metadata": {},
   "outputs": [],
   "source": [
    "l = RepeatReplacer()"
   ]
  },
  {
   "cell_type": "code",
   "execution_count": 37,
   "metadata": {},
   "outputs": [],
   "source": [
    "class SynReplace1(object) :\n",
    "    def __init__(self):\n",
    "        self.text = ''\n",
    "    def replace(self ,text):\n",
    "                # Get the list of words from the entire text\n",
    "        words = word_tokenize(text)\n",
    "\n",
    "            # Identify the parts of speech\n",
    "        tagged = nltk.pos_tag(words)\n",
    "\n",
    "        for i in range(0,len(words)):\n",
    "\n",
    "            syn = wordnet.synsets(words[i])\n",
    "            if len(syn)>0:\n",
    "                a = syn[0].hypernyms()\n",
    "                if len(a)>0:\n",
    "                    words[i] = a[0].name()[:a[0].name().find(\".\")]\n",
    "        return \" \".join(words)"
   ]
  },
  {
   "cell_type": "code",
   "execution_count": 38,
   "metadata": {},
   "outputs": [
    {
     "name": "stdout",
     "output_type": "stream",
     "text": [
      "<class 'str'>\n"
     ]
    }
   ],
   "source": [
    "print(type(\" \".join(['a','p','c'])))"
   ]
  },
  {
   "cell_type": "code",
   "execution_count": 39,
   "metadata": {},
   "outputs": [],
   "source": [
    "s = SynReplace1()"
   ]
  },
  {
   "cell_type": "code",
   "execution_count": 40,
   "metadata": {},
   "outputs": [],
   "source": [
    "def preprocessing(text):\n",
    "    #text = text.decode(\"utf8\")\n",
    "    # tokenize into words\n",
    "    tokens = [word for sent in nltk.sent_tokenize(text) for word in nltk.word_tokenize(sent)]\n",
    "#     syn_text = [s.replace(sent) for sent in nltk.sent_tokenize(text)]\n",
    "#     print(type(syn_text))\n",
    "    #tokens = [ word for word in nltk.word_tokenize(syn_text)]\n",
    "\n",
    "    # remove stopwords\n",
    "    stop = stopwords.words('english')\n",
    "    tokens = [s.replace(token) for token in tokens if token not in stop]\n",
    "\n",
    "    # remove words less than three letters\n",
    "    #tokens = [word for word in tokens if len(word) >= 3]\n",
    "\n",
    "    # lower capitalization\n",
    "    tokens = [word.lower() for word in tokens]\n",
    "    #tokens - [l.replace(word) for word in tokens]\n",
    "    # lemmatize\n",
    "    lmtzr = WordNetLemmatizer()\n",
    "    tokens = [lmtzr.lemmatize(word) for word in tokens]\n",
    "    preprocessed_text= ' '.join(tokens)\n",
    "\n",
    "    return preprocessed_text "
   ]
  },
  {
   "cell_type": "code",
   "execution_count": 41,
   "metadata": {
    "collapsed": true
   },
   "outputs": [
    {
     "data": {
      "text/plain": [
       "' good one           \\nof course  to which i say i know; that is my blessing and my curse. \\ndoes being absolutely positive that you and your best friend could be an amazing couple count  if so  than yes.   or it is more i could be madly in love in case i reconciled my feelings  which at... \\nno  i did not; thank you for a link  \\nso called ti si loop  and it can stem from any current topic obsession  can be deadly. it is like when you are stuck in your own thoughts  and your mind just wanders in circles. feels truly terrible. ... \\nhave you noticed how peculiar vegetation can be  all you have to do is look down at the grass  dozens of different plant species there.    and now imagine that hundreds of years later  when if soil... \\nthe smiths – never had no one ever \\ni often find myself spotting faces on marble tiles wood. \\nthis   year old sentence is an incredibly accurate and beautiful description. \\ni have not visited this website in the last   years. so whoever reads this  and maybe even remembers me  which i highly doubt   hi.       when you sit in your garden until     pm writing songs  and sing them  together with dozens of crickets  while playing your acoustic guitar. \\nthis is the most intp ish thread i have ever seen. \\ni would not be able to look at the painting for the entire life if i knew that i picked it over the human being. \\ni was drawing a background for my animation on which i am working right now   it should have been mars.. but i felt obligated to make mark watneyx s postcard from it  d  if you read the book... \\ni started to make comics about turtle gordon and unicorn chimes   here you can see two first stories   \\nintj recently i started to post my comics about two friends   turtle gordon and unicorn chimes. before that  i just posted stuff that interested me  but from now on i will try to include only my works... \\nprobably we could work together on a new model   i am an expert in abrupt explosions of laughter upon various weird stuff. that happens because of peculiar sense of humor   so peculiar that not much... \\nhellooo nah  you can touch it. everyone thinks that it is scared or sad  but that is not true   in fact it has an absolutely neutral face. and this kitten actually really likes patting and hugs  only... well.. kind of; as it was already mentioned  sometimes because of ni it is hard to convey complex stuff which pops up in your head in whimsical compilations of shapes and pictures only with words.... \\ni think this kitten would be very appropriate here.      \\ngood night everyone out there  even if for someone there is morning right now   nights always supersede mornings.. and people say good night in order to meet next day    \\noh  that movie    it is awesome thank you  hope you had good sleep in the air; anyway  i am wishing you good night for the next night ahead   hopefully it will be on land   good people deserve good... \\n     \\nwell  other people who may be wondering about an issue from the name of the topic will find your response helpful anyway    \\nthis. finally someone mentioned that    \\ni still see creatures faces in a maze of various random patterns. it can be amusing sometimes.  it is a very handy skill when you are bored. \\noh  i did not know that.. what a pity.  why not sacrifice whole supermarket  then  we can decide which walmart will be the best  i think the biggest one would be great . \\nyippy  here you go     he thinks that the fire is delicious. should i sacrifice tofu  i do not like to waste food. i do not think that the creator of this thread cares what is going on here after   years    \\nheh  i understand you    with these same given languages    \\nyessss  adventure time  d \\ni get angry quite rarely  but when i do  it is safer for surrounding people to go somewhere else. it is impossible for me to hide or suppress anger; the only way to get rid of this feeling is to burst... \\ni have never liked it  anything fake is bad  actually. \\nhugs should be given only to chosen ones. chosen. there are quite few of them  though.   \\nyup  you are doing it right    \\n   \\nof course it is not very comfortable.  but. human race survived thankfully women is ability to give birth to other human beings. it worked for thousands of years. why change it  besides  there are... \\nthat happens. and it occurs because most often people use results of extremely precise and elaborate online tests as a basis of determining one is type.      both visual and language arts  more...   \\ni study graphic design now  which i really enjoy. what is interesting about this field  is that the ability to generate ideas and solve problems is much more important than possession of a specific... \\nalexxxandra    deviantart    \\ni am always ready to discipline  to intimidate  to be precise  my sibling is offender. \\nworld domination  shooting people in the head  why   oh  right  intjs always must be characterised only with these words.     i want to show so badly my reaction to this      istp    '"
      ]
     },
     "execution_count": 41,
     "metadata": {},
     "output_type": "execute_result"
    }
   ],
   "source": [
    "q = cleanPosts( p )\n",
    "q"
   ]
  },
  {
   "cell_type": "code",
   "execution_count": 42,
   "metadata": {
    "collapsed": true
   },
   "outputs": [
    {
     "data": {
      "text/plain": [
       "'advantage digit education opportunity knowing ; support profanity . absolutely adjective attempt person could surprise pair number affirmative . could madly emotion happening harmonize sensitivity ... ; convey linkage label metallic_element chemical_element fastener form electrical_phenomenon message irrational_motive deadly . kind fasten content cognition travel ellipse . awareness truly terrible . ... spy peculiar collection countenance gramineous_plant large_indefinite_quantity different building_complex taxonomic_group . create_by_mental_act large_integer time_of_life later dirtiness ... smith – never digit ever often insight soiling external_body_part rock slab plant_material . time_period past string_of_words incredibly accurate beautiful statement . tour computer end time_of_life . whoever publication maybe day remembers highly cognitive_state greeting . sit plot examination verbal_creation musical_composition interpret together large_indefinite_quantity orthopterous_insect musical_performance remedy stringed_instrument . intp ish cord ever perceive . would able countenance graphic_art male_horse being knew choose hominid . artwork inheritance being excavation abstraction mars.. fabric induce kind evaluation watneyx card publication publication ... started kind cartoon jersey gordon imaginary_being percussion_instrument seat digit rank message intj recently started position cartoon digit person jersey gordon imaginary_being percussion_instrument . affix substance arouse activity include building_complex ... probably could activity together new hypothesis person abrupt discharge utterance upon various anglo-saxon_deity substance . happens peculiar awareness message peculiar large_indefinite_quantity ... hellooo nah contact . everyone deliberation stimulate sad alignment information absolutely person external_body_part . young_mammal actually really kind caress embrace ... well.. category ; already think_of sometimes metallic_element hard impart whole substance father external_body_part whimsical collection spatial_property representation speech ... . deliberation young_mammal would assign . advantage time_period everyone day causal_agent time_period abstraction time_period always succeed mornings.. group opportunity advantage time_period command athletic_contest next time_unit oh product awesome convey anticipation advantage physical_condition gas ; anyway desire advantage time_period next time_period ahead hopefully real_property advantage group be advantage ... excavation group gregorian_calendar_month question content language_unit message insight consequence helpful anyway . finally causal_agent think_of photograph seat organism external_body_part system various random structure . entertain sometimes . handy ability bored . oh knowing that.. sympathy . act concept grocery_store decide walmart attempt deliberation biggest digit would achiever . yippy shift deliberation happening eating_apple . act curd kind material substance . deliberation creator cord work act time_of_life heh understand assumption communication affirmative undertaking case return angry quite rarely safer touch group shift location else . impossibility animal_skin control emotion ; property return rid state change_of_integrity ... never desire anything imitation quality actually . embrace assumption darling digit . darling . quite though . yup abstraction education comfortable . . hominid contest survived thankfully adult quality elasticity beginning hominid state . worked large_integer time_of_life . happening besides ... happens . occurs often group activity phenomenon extremely precise clarify online experiment foundation determining digit kind . visual communication discipline ... examination picture creating_by_mental_acts really enjoy . arouse tract quality make content understand difficulty large_indefinite_quantity important control fact ... alexxxandra deviantart always readiness knowledge_domain frighten precise relative bad_person . natural_object social_control propulsion group external_body_part oh abstraction intjs always necessity distinguish speech . poverty entertainment badly chemical_process istp'"
      ]
     },
     "execution_count": 42,
     "metadata": {},
     "output_type": "execute_result"
    }
   ],
   "source": [
    "r = preprocessing( q )\n",
    "r"
   ]
  },
  {
   "cell_type": "code",
   "execution_count": 43,
   "metadata": {},
   "outputs": [
    {
     "data": {
      "text/plain": [
       "4169"
      ]
     },
     "execution_count": 43,
     "metadata": {},
     "output_type": "execute_result"
    }
   ],
   "source": [
    "len( r )\n"
   ]
  },
  {
   "cell_type": "code",
   "execution_count": 44,
   "metadata": {},
   "outputs": [],
   "source": [
    "df['clean_posts'] = df['posts'].apply(cleanPosts)"
   ]
  },
  {
   "cell_type": "code",
   "execution_count": 47,
   "metadata": {},
   "outputs": [
    {
     "data": {
      "text/html": [
       "<div>\n",
       "<style scoped>\n",
       "    .dataframe tbody tr th:only-of-type {\n",
       "        vertical-align: middle;\n",
       "    }\n",
       "\n",
       "    .dataframe tbody tr th {\n",
       "        vertical-align: top;\n",
       "    }\n",
       "\n",
       "    .dataframe thead th {\n",
       "        text-align: right;\n",
       "    }\n",
       "</style>\n",
       "<table border=\"1\" class=\"dataframe\">\n",
       "  <thead>\n",
       "    <tr style=\"text-align: right;\">\n",
       "      <th></th>\n",
       "      <th>type</th>\n",
       "      <th>posts</th>\n",
       "      <th>count</th>\n",
       "      <th>clean_posts</th>\n",
       "    </tr>\n",
       "  </thead>\n",
       "  <tbody>\n",
       "    <tr>\n",
       "      <th>0</th>\n",
       "      <td>INFJ</td>\n",
       "      <td>'http://www.youtube.com/watch?v=qsXHcwe3krw|||...</td>\n",
       "      <td>50</td>\n",
       "      <td>enfp and intj moments    sportscenter not t...</td>\n",
       "    </tr>\n",
       "    <tr>\n",
       "      <th>1</th>\n",
       "      <td>ENTP</td>\n",
       "      <td>'I'm finding the lack of me in these posts ver...</td>\n",
       "      <td>50</td>\n",
       "      <td>i am finding the lack of me in these posts ve...</td>\n",
       "    </tr>\n",
       "    <tr>\n",
       "      <th>2</th>\n",
       "      <td>INTP</td>\n",
       "      <td>'Good one  _____   https://www.youtube.com/wat...</td>\n",
       "      <td>50</td>\n",
       "      <td>good one           of course  to which i say ...</td>\n",
       "    </tr>\n",
       "    <tr>\n",
       "      <th>3</th>\n",
       "      <td>INTJ</td>\n",
       "      <td>'Dear INTP,   I enjoyed our conversation the o...</td>\n",
       "      <td>50</td>\n",
       "      <td>dear intp    i enjoyed our conversation the o...</td>\n",
       "    </tr>\n",
       "    <tr>\n",
       "      <th>4</th>\n",
       "      <td>ENTJ</td>\n",
       "      <td>'You're fired.|||That's another silly misconce...</td>\n",
       "      <td>50</td>\n",
       "      <td>you are fired. that is another silly misconce...</td>\n",
       "    </tr>\n",
       "  </tbody>\n",
       "</table>\n",
       "</div>"
      ],
      "text/plain": [
       "   type                                              posts  count  \\\n",
       "0  INFJ  'http://www.youtube.com/watch?v=qsXHcwe3krw|||...     50   \n",
       "1  ENTP  'I'm finding the lack of me in these posts ver...     50   \n",
       "2  INTP  'Good one  _____   https://www.youtube.com/wat...     50   \n",
       "3  INTJ  'Dear INTP,   I enjoyed our conversation the o...     50   \n",
       "4  ENTJ  'You're fired.|||That's another silly misconce...     50   \n",
       "\n",
       "                                         clean_posts  \n",
       "0     enfp and intj moments    sportscenter not t...  \n",
       "1   i am finding the lack of me in these posts ve...  \n",
       "2   good one           of course  to which i say ...  \n",
       "3   dear intp    i enjoyed our conversation the o...  \n",
       "4   you are fired. that is another silly misconce...  "
      ]
     },
     "execution_count": 47,
     "metadata": {},
     "output_type": "execute_result"
    }
   ],
   "source": [
    "df.head(5)"
   ]
  },
  {
   "cell_type": "code",
   "execution_count": 48,
   "metadata": {},
   "outputs": [
    {
     "ename": "KeyboardInterrupt",
     "evalue": "",
     "output_type": "error",
     "traceback": [
      "\u001b[1;31m---------------------------------------------------------------------------\u001b[0m",
      "\u001b[1;31mFileNotFoundError\u001b[0m                         Traceback (most recent call last)",
      "\u001b[1;32mC:\\Anaconda\\lib\\genericpath.py\u001b[0m in \u001b[0;36misfile\u001b[1;34m(path)\u001b[0m\n\u001b[0;32m     29\u001b[0m     \u001b[1;32mtry\u001b[0m\u001b[1;33m:\u001b[0m\u001b[1;33m\u001b[0m\u001b[1;33m\u001b[0m\u001b[0m\n\u001b[1;32m---> 30\u001b[1;33m         \u001b[0mst\u001b[0m \u001b[1;33m=\u001b[0m \u001b[0mos\u001b[0m\u001b[1;33m.\u001b[0m\u001b[0mstat\u001b[0m\u001b[1;33m(\u001b[0m\u001b[0mpath\u001b[0m\u001b[1;33m)\u001b[0m\u001b[1;33m\u001b[0m\u001b[1;33m\u001b[0m\u001b[0m\n\u001b[0m\u001b[0;32m     31\u001b[0m     \u001b[1;32mexcept\u001b[0m \u001b[0mOSError\u001b[0m\u001b[1;33m:\u001b[0m\u001b[1;33m\u001b[0m\u001b[1;33m\u001b[0m\u001b[0m\n",
      "\u001b[1;31mFileNotFoundError\u001b[0m: [WinError 2] The system cannot find the file specified: 'C:\\\\Users\\\\Janu&Vaibh/nltk_data'",
      "\nDuring handling of the above exception, another exception occurred:\n",
      "\u001b[1;31mKeyboardInterrupt\u001b[0m                         Traceback (most recent call last)",
      "\u001b[1;32m<ipython-input-48-040ac9d9a253>\u001b[0m in \u001b[0;36m<module>\u001b[1;34m\u001b[0m\n\u001b[1;32m----> 1\u001b[1;33m \u001b[0mdf\u001b[0m\u001b[1;33m[\u001b[0m\u001b[1;34m'Cleaned_posts'\u001b[0m\u001b[1;33m]\u001b[0m \u001b[1;33m=\u001b[0m \u001b[0mdf\u001b[0m\u001b[1;33m[\u001b[0m\u001b[1;34m'clean_posts'\u001b[0m\u001b[1;33m]\u001b[0m\u001b[1;33m.\u001b[0m\u001b[0mapply\u001b[0m\u001b[1;33m(\u001b[0m \u001b[1;32mlambda\u001b[0m \u001b[0mtext\u001b[0m \u001b[1;33m:\u001b[0m \u001b[0mpreprocessing\u001b[0m\u001b[1;33m(\u001b[0m\u001b[0mtext\u001b[0m\u001b[1;33m)\u001b[0m\u001b[1;33m)\u001b[0m\u001b[1;33m\u001b[0m\u001b[1;33m\u001b[0m\u001b[0m\n\u001b[0m",
      "\u001b[1;32mC:\\Anaconda\\lib\\site-packages\\pandas\\core\\series.py\u001b[0m in \u001b[0;36mapply\u001b[1;34m(self, func, convert_dtype, args, **kwds)\u001b[0m\n\u001b[0;32m   3192\u001b[0m             \u001b[1;32melse\u001b[0m\u001b[1;33m:\u001b[0m\u001b[1;33m\u001b[0m\u001b[1;33m\u001b[0m\u001b[0m\n\u001b[0;32m   3193\u001b[0m                 \u001b[0mvalues\u001b[0m \u001b[1;33m=\u001b[0m \u001b[0mself\u001b[0m\u001b[1;33m.\u001b[0m\u001b[0mastype\u001b[0m\u001b[1;33m(\u001b[0m\u001b[0mobject\u001b[0m\u001b[1;33m)\u001b[0m\u001b[1;33m.\u001b[0m\u001b[0mvalues\u001b[0m\u001b[1;33m\u001b[0m\u001b[1;33m\u001b[0m\u001b[0m\n\u001b[1;32m-> 3194\u001b[1;33m                 \u001b[0mmapped\u001b[0m \u001b[1;33m=\u001b[0m \u001b[0mlib\u001b[0m\u001b[1;33m.\u001b[0m\u001b[0mmap_infer\u001b[0m\u001b[1;33m(\u001b[0m\u001b[0mvalues\u001b[0m\u001b[1;33m,\u001b[0m \u001b[0mf\u001b[0m\u001b[1;33m,\u001b[0m \u001b[0mconvert\u001b[0m\u001b[1;33m=\u001b[0m\u001b[0mconvert_dtype\u001b[0m\u001b[1;33m)\u001b[0m\u001b[1;33m\u001b[0m\u001b[1;33m\u001b[0m\u001b[0m\n\u001b[0m\u001b[0;32m   3195\u001b[0m \u001b[1;33m\u001b[0m\u001b[0m\n\u001b[0;32m   3196\u001b[0m         \u001b[1;32mif\u001b[0m \u001b[0mlen\u001b[0m\u001b[1;33m(\u001b[0m\u001b[0mmapped\u001b[0m\u001b[1;33m)\u001b[0m \u001b[1;32mand\u001b[0m \u001b[0misinstance\u001b[0m\u001b[1;33m(\u001b[0m\u001b[0mmapped\u001b[0m\u001b[1;33m[\u001b[0m\u001b[1;36m0\u001b[0m\u001b[1;33m]\u001b[0m\u001b[1;33m,\u001b[0m \u001b[0mSeries\u001b[0m\u001b[1;33m)\u001b[0m\u001b[1;33m:\u001b[0m\u001b[1;33m\u001b[0m\u001b[1;33m\u001b[0m\u001b[0m\n",
      "\u001b[1;32mpandas/_libs/src\\inference.pyx\u001b[0m in \u001b[0;36mpandas._libs.lib.map_infer\u001b[1;34m()\u001b[0m\n",
      "\u001b[1;32m<ipython-input-48-040ac9d9a253>\u001b[0m in \u001b[0;36m<lambda>\u001b[1;34m(text)\u001b[0m\n\u001b[1;32m----> 1\u001b[1;33m \u001b[0mdf\u001b[0m\u001b[1;33m[\u001b[0m\u001b[1;34m'Cleaned_posts'\u001b[0m\u001b[1;33m]\u001b[0m \u001b[1;33m=\u001b[0m \u001b[0mdf\u001b[0m\u001b[1;33m[\u001b[0m\u001b[1;34m'clean_posts'\u001b[0m\u001b[1;33m]\u001b[0m\u001b[1;33m.\u001b[0m\u001b[0mapply\u001b[0m\u001b[1;33m(\u001b[0m \u001b[1;32mlambda\u001b[0m \u001b[0mtext\u001b[0m \u001b[1;33m:\u001b[0m \u001b[0mpreprocessing\u001b[0m\u001b[1;33m(\u001b[0m\u001b[0mtext\u001b[0m\u001b[1;33m)\u001b[0m\u001b[1;33m)\u001b[0m\u001b[1;33m\u001b[0m\u001b[1;33m\u001b[0m\u001b[0m\n\u001b[0m",
      "\u001b[1;32m<ipython-input-40-48364f302761>\u001b[0m in \u001b[0;36mpreprocessing\u001b[1;34m(text)\u001b[0m\n\u001b[0;32m      9\u001b[0m     \u001b[1;31m# remove stopwords\u001b[0m\u001b[1;33m\u001b[0m\u001b[1;33m\u001b[0m\u001b[1;33m\u001b[0m\u001b[0m\n\u001b[0;32m     10\u001b[0m     \u001b[0mstop\u001b[0m \u001b[1;33m=\u001b[0m \u001b[0mstopwords\u001b[0m\u001b[1;33m.\u001b[0m\u001b[0mwords\u001b[0m\u001b[1;33m(\u001b[0m\u001b[1;34m'english'\u001b[0m\u001b[1;33m)\u001b[0m\u001b[1;33m\u001b[0m\u001b[1;33m\u001b[0m\u001b[0m\n\u001b[1;32m---> 11\u001b[1;33m     \u001b[0mtokens\u001b[0m \u001b[1;33m=\u001b[0m \u001b[1;33m[\u001b[0m\u001b[0ms\u001b[0m\u001b[1;33m.\u001b[0m\u001b[0mreplace\u001b[0m\u001b[1;33m(\u001b[0m\u001b[0mtoken\u001b[0m\u001b[1;33m)\u001b[0m \u001b[1;32mfor\u001b[0m \u001b[0mtoken\u001b[0m \u001b[1;32min\u001b[0m \u001b[0mtokens\u001b[0m \u001b[1;32mif\u001b[0m \u001b[0mtoken\u001b[0m \u001b[1;32mnot\u001b[0m \u001b[1;32min\u001b[0m \u001b[0mstop\u001b[0m\u001b[1;33m]\u001b[0m\u001b[1;33m\u001b[0m\u001b[1;33m\u001b[0m\u001b[0m\n\u001b[0m\u001b[0;32m     12\u001b[0m \u001b[1;33m\u001b[0m\u001b[0m\n\u001b[0;32m     13\u001b[0m     \u001b[1;31m# remove words less than three letters\u001b[0m\u001b[1;33m\u001b[0m\u001b[1;33m\u001b[0m\u001b[1;33m\u001b[0m\u001b[0m\n",
      "\u001b[1;32m<ipython-input-40-48364f302761>\u001b[0m in \u001b[0;36m<listcomp>\u001b[1;34m(.0)\u001b[0m\n\u001b[0;32m      9\u001b[0m     \u001b[1;31m# remove stopwords\u001b[0m\u001b[1;33m\u001b[0m\u001b[1;33m\u001b[0m\u001b[1;33m\u001b[0m\u001b[0m\n\u001b[0;32m     10\u001b[0m     \u001b[0mstop\u001b[0m \u001b[1;33m=\u001b[0m \u001b[0mstopwords\u001b[0m\u001b[1;33m.\u001b[0m\u001b[0mwords\u001b[0m\u001b[1;33m(\u001b[0m\u001b[1;34m'english'\u001b[0m\u001b[1;33m)\u001b[0m\u001b[1;33m\u001b[0m\u001b[1;33m\u001b[0m\u001b[0m\n\u001b[1;32m---> 11\u001b[1;33m     \u001b[0mtokens\u001b[0m \u001b[1;33m=\u001b[0m \u001b[1;33m[\u001b[0m\u001b[0ms\u001b[0m\u001b[1;33m.\u001b[0m\u001b[0mreplace\u001b[0m\u001b[1;33m(\u001b[0m\u001b[0mtoken\u001b[0m\u001b[1;33m)\u001b[0m \u001b[1;32mfor\u001b[0m \u001b[0mtoken\u001b[0m \u001b[1;32min\u001b[0m \u001b[0mtokens\u001b[0m \u001b[1;32mif\u001b[0m \u001b[0mtoken\u001b[0m \u001b[1;32mnot\u001b[0m \u001b[1;32min\u001b[0m \u001b[0mstop\u001b[0m\u001b[1;33m]\u001b[0m\u001b[1;33m\u001b[0m\u001b[1;33m\u001b[0m\u001b[0m\n\u001b[0m\u001b[0;32m     12\u001b[0m \u001b[1;33m\u001b[0m\u001b[0m\n\u001b[0;32m     13\u001b[0m     \u001b[1;31m# remove words less than three letters\u001b[0m\u001b[1;33m\u001b[0m\u001b[1;33m\u001b[0m\u001b[1;33m\u001b[0m\u001b[0m\n",
      "\u001b[1;32m<ipython-input-37-0c3725d64da3>\u001b[0m in \u001b[0;36mreplace\u001b[1;34m(self, text)\u001b[0m\n\u001b[0;32m      7\u001b[0m \u001b[1;33m\u001b[0m\u001b[0m\n\u001b[0;32m      8\u001b[0m             \u001b[1;31m# Identify the parts of speech\u001b[0m\u001b[1;33m\u001b[0m\u001b[1;33m\u001b[0m\u001b[1;33m\u001b[0m\u001b[0m\n\u001b[1;32m----> 9\u001b[1;33m         \u001b[0mtagged\u001b[0m \u001b[1;33m=\u001b[0m \u001b[0mnltk\u001b[0m\u001b[1;33m.\u001b[0m\u001b[0mpos_tag\u001b[0m\u001b[1;33m(\u001b[0m\u001b[0mwords\u001b[0m\u001b[1;33m)\u001b[0m\u001b[1;33m\u001b[0m\u001b[1;33m\u001b[0m\u001b[0m\n\u001b[0m\u001b[0;32m     10\u001b[0m \u001b[1;33m\u001b[0m\u001b[0m\n\u001b[0;32m     11\u001b[0m         \u001b[1;32mfor\u001b[0m \u001b[0mi\u001b[0m \u001b[1;32min\u001b[0m \u001b[0mrange\u001b[0m\u001b[1;33m(\u001b[0m\u001b[1;36m0\u001b[0m\u001b[1;33m,\u001b[0m\u001b[0mlen\u001b[0m\u001b[1;33m(\u001b[0m\u001b[0mwords\u001b[0m\u001b[1;33m)\u001b[0m\u001b[1;33m)\u001b[0m\u001b[1;33m:\u001b[0m\u001b[1;33m\u001b[0m\u001b[1;33m\u001b[0m\u001b[0m\n",
      "\u001b[1;32mC:\\Anaconda\\lib\\site-packages\\nltk\\tag\\__init__.py\u001b[0m in \u001b[0;36mpos_tag\u001b[1;34m(tokens, tagset, lang)\u001b[0m\n\u001b[0;32m    159\u001b[0m     \u001b[1;33m:\u001b[0m\u001b[0mrtype\u001b[0m\u001b[1;33m:\u001b[0m \u001b[0mlist\u001b[0m\u001b[1;33m(\u001b[0m\u001b[0mtuple\u001b[0m\u001b[1;33m(\u001b[0m\u001b[0mstr\u001b[0m\u001b[1;33m,\u001b[0m \u001b[0mstr\u001b[0m\u001b[1;33m)\u001b[0m\u001b[1;33m)\u001b[0m\u001b[1;33m\u001b[0m\u001b[1;33m\u001b[0m\u001b[0m\n\u001b[0;32m    160\u001b[0m     \"\"\"\n\u001b[1;32m--> 161\u001b[1;33m     \u001b[0mtagger\u001b[0m \u001b[1;33m=\u001b[0m \u001b[0m_get_tagger\u001b[0m\u001b[1;33m(\u001b[0m\u001b[0mlang\u001b[0m\u001b[1;33m)\u001b[0m\u001b[1;33m\u001b[0m\u001b[1;33m\u001b[0m\u001b[0m\n\u001b[0m\u001b[0;32m    162\u001b[0m     \u001b[1;32mreturn\u001b[0m \u001b[0m_pos_tag\u001b[0m\u001b[1;33m(\u001b[0m\u001b[0mtokens\u001b[0m\u001b[1;33m,\u001b[0m \u001b[0mtagset\u001b[0m\u001b[1;33m,\u001b[0m \u001b[0mtagger\u001b[0m\u001b[1;33m,\u001b[0m \u001b[0mlang\u001b[0m\u001b[1;33m)\u001b[0m\u001b[1;33m\u001b[0m\u001b[1;33m\u001b[0m\u001b[0m\n\u001b[0;32m    163\u001b[0m \u001b[1;33m\u001b[0m\u001b[0m\n",
      "\u001b[1;32mC:\\Anaconda\\lib\\site-packages\\nltk\\tag\\__init__.py\u001b[0m in \u001b[0;36m_get_tagger\u001b[1;34m(lang)\u001b[0m\n\u001b[0;32m    105\u001b[0m         \u001b[0mtagger\u001b[0m\u001b[1;33m.\u001b[0m\u001b[0mload\u001b[0m\u001b[1;33m(\u001b[0m\u001b[0map_russian_model_loc\u001b[0m\u001b[1;33m)\u001b[0m\u001b[1;33m\u001b[0m\u001b[1;33m\u001b[0m\u001b[0m\n\u001b[0;32m    106\u001b[0m     \u001b[1;32melse\u001b[0m\u001b[1;33m:\u001b[0m\u001b[1;33m\u001b[0m\u001b[1;33m\u001b[0m\u001b[0m\n\u001b[1;32m--> 107\u001b[1;33m         \u001b[0mtagger\u001b[0m \u001b[1;33m=\u001b[0m \u001b[0mPerceptronTagger\u001b[0m\u001b[1;33m(\u001b[0m\u001b[1;33m)\u001b[0m\u001b[1;33m\u001b[0m\u001b[1;33m\u001b[0m\u001b[0m\n\u001b[0m\u001b[0;32m    108\u001b[0m     \u001b[1;32mreturn\u001b[0m \u001b[0mtagger\u001b[0m\u001b[1;33m\u001b[0m\u001b[1;33m\u001b[0m\u001b[0m\n\u001b[0;32m    109\u001b[0m \u001b[1;33m\u001b[0m\u001b[0m\n",
      "\u001b[1;32mC:\\Anaconda\\lib\\site-packages\\nltk\\tag\\perceptron.py\u001b[0m in \u001b[0;36m__init__\u001b[1;34m(self, load)\u001b[0m\n\u001b[0;32m    142\u001b[0m         \u001b[1;32mif\u001b[0m \u001b[0mload\u001b[0m\u001b[1;33m:\u001b[0m\u001b[1;33m\u001b[0m\u001b[1;33m\u001b[0m\u001b[0m\n\u001b[0;32m    143\u001b[0m             AP_MODEL_LOC = 'file:' + str(\n\u001b[1;32m--> 144\u001b[1;33m                 \u001b[0mfind\u001b[0m\u001b[1;33m(\u001b[0m\u001b[1;34m'taggers/averaged_perceptron_tagger/'\u001b[0m \u001b[1;33m+\u001b[0m \u001b[0mPICKLE\u001b[0m\u001b[1;33m)\u001b[0m\u001b[1;33m\u001b[0m\u001b[1;33m\u001b[0m\u001b[0m\n\u001b[0m\u001b[0;32m    145\u001b[0m             )\n\u001b[0;32m    146\u001b[0m             \u001b[0mself\u001b[0m\u001b[1;33m.\u001b[0m\u001b[0mload\u001b[0m\u001b[1;33m(\u001b[0m\u001b[0mAP_MODEL_LOC\u001b[0m\u001b[1;33m)\u001b[0m\u001b[1;33m\u001b[0m\u001b[1;33m\u001b[0m\u001b[0m\n",
      "\u001b[1;32mC:\\Anaconda\\lib\\site-packages\\nltk\\data.py\u001b[0m in \u001b[0;36mfind\u001b[1;34m(resource_name, paths)\u001b[0m\n\u001b[0;32m    638\u001b[0m     \u001b[1;32mfor\u001b[0m \u001b[0mpath_\u001b[0m \u001b[1;32min\u001b[0m \u001b[0mpaths\u001b[0m\u001b[1;33m:\u001b[0m\u001b[1;33m\u001b[0m\u001b[1;33m\u001b[0m\u001b[0m\n\u001b[0;32m    639\u001b[0m         \u001b[1;31m# Is the path item a zipfile?\u001b[0m\u001b[1;33m\u001b[0m\u001b[1;33m\u001b[0m\u001b[1;33m\u001b[0m\u001b[0m\n\u001b[1;32m--> 640\u001b[1;33m         \u001b[1;32mif\u001b[0m \u001b[0mpath_\u001b[0m \u001b[1;32mand\u001b[0m \u001b[1;33m(\u001b[0m\u001b[0mos\u001b[0m\u001b[1;33m.\u001b[0m\u001b[0mpath\u001b[0m\u001b[1;33m.\u001b[0m\u001b[0misfile\u001b[0m\u001b[1;33m(\u001b[0m\u001b[0mpath_\u001b[0m\u001b[1;33m)\u001b[0m \u001b[1;32mand\u001b[0m \u001b[0mpath_\u001b[0m\u001b[1;33m.\u001b[0m\u001b[0mendswith\u001b[0m\u001b[1;33m(\u001b[0m\u001b[1;34m'.zip'\u001b[0m\u001b[1;33m)\u001b[0m\u001b[1;33m)\u001b[0m\u001b[1;33m:\u001b[0m\u001b[1;33m\u001b[0m\u001b[1;33m\u001b[0m\u001b[0m\n\u001b[0m\u001b[0;32m    641\u001b[0m             \u001b[1;32mtry\u001b[0m\u001b[1;33m:\u001b[0m\u001b[1;33m\u001b[0m\u001b[1;33m\u001b[0m\u001b[0m\n\u001b[0;32m    642\u001b[0m                 \u001b[1;32mreturn\u001b[0m \u001b[0mZipFilePathPointer\u001b[0m\u001b[1;33m(\u001b[0m\u001b[0mpath_\u001b[0m\u001b[1;33m,\u001b[0m \u001b[0mresource_name\u001b[0m\u001b[1;33m)\u001b[0m\u001b[1;33m\u001b[0m\u001b[1;33m\u001b[0m\u001b[0m\n",
      "\u001b[1;32mC:\\Anaconda\\lib\\genericpath.py\u001b[0m in \u001b[0;36misfile\u001b[1;34m(path)\u001b[0m\n\u001b[0;32m     28\u001b[0m     \u001b[1;34m\"\"\"Test whether a path is a regular file\"\"\"\u001b[0m\u001b[1;33m\u001b[0m\u001b[1;33m\u001b[0m\u001b[0m\n\u001b[0;32m     29\u001b[0m     \u001b[1;32mtry\u001b[0m\u001b[1;33m:\u001b[0m\u001b[1;33m\u001b[0m\u001b[1;33m\u001b[0m\u001b[0m\n\u001b[1;32m---> 30\u001b[1;33m         \u001b[0mst\u001b[0m \u001b[1;33m=\u001b[0m \u001b[0mos\u001b[0m\u001b[1;33m.\u001b[0m\u001b[0mstat\u001b[0m\u001b[1;33m(\u001b[0m\u001b[0mpath\u001b[0m\u001b[1;33m)\u001b[0m\u001b[1;33m\u001b[0m\u001b[1;33m\u001b[0m\u001b[0m\n\u001b[0m\u001b[0;32m     31\u001b[0m     \u001b[1;32mexcept\u001b[0m \u001b[0mOSError\u001b[0m\u001b[1;33m:\u001b[0m\u001b[1;33m\u001b[0m\u001b[1;33m\u001b[0m\u001b[0m\n\u001b[0;32m     32\u001b[0m         \u001b[1;32mreturn\u001b[0m \u001b[1;32mFalse\u001b[0m\u001b[1;33m\u001b[0m\u001b[1;33m\u001b[0m\u001b[0m\n",
      "\u001b[1;31mKeyboardInterrupt\u001b[0m: "
     ]
    }
   ],
   "source": [
    "df['Cleaned_posts'] = df['clean_posts'].apply( lambda text : preprocessing(text))"
   ]
  },
  {
   "cell_type": "code",
   "execution_count": null,
   "metadata": {},
   "outputs": [],
   "source": [
    "mbti = pd.DataFrame(df[['Cleaned_posts','type']])\n",
    "mbti.head(5)"
   ]
  },
  {
   "cell_type": "code",
   "execution_count": null,
   "metadata": {},
   "outputs": [],
   "source": []
  },
  {
   "cell_type": "code",
   "execution_count": null,
   "metadata": {},
   "outputs": [],
   "source": [
    "from wordcloud import WordCloud\n",
    "\n",
    "# stopwords to not consider\n",
    "labels = mbti['type'].unique()\n",
    "row, col = 4, 4\n",
    "wc = WordCloud()\n",
    "\n",
    "fig, ax = plt.subplots(4, 4, figsize=(20,15))\n",
    "\n",
    "for i in range(4):\n",
    "    for j in range(4):\n",
    "        cur_type = labels[i*col+j]\n",
    "        cur_ax = ax[i][j]\n",
    "        df5 = mbti[mbti['type'] == cur_type]\n",
    "        wordcloud = wc.generate(df5['Cleaned_posts'].to_string())\n",
    "        cur_ax.imshow(wordcloud)\n",
    "        cur_ax.axis('off')\n",
    "        cur_ax.set_title(cur_type)"
   ]
  },
  {
   "cell_type": "code",
   "execution_count": null,
   "metadata": {},
   "outputs": [],
   "source": [
    "# def graph():\n",
    "#   f = open(\"SpeckBitMyVersion.txt\", \"r\")\n",
    "#   inputfile = str(mbti.iloc[0])\n",
    "#   tokens = nltk.tokenize.word_tokenize(inputfile)\n",
    "#   fd = nltk.FreqDist(tokens)\n",
    "#   fd.plot(30,cumulative=False)"
   ]
  },
  {
   "cell_type": "code",
   "execution_count": null,
   "metadata": {},
   "outputs": [],
   "source": [
    "# graph()"
   ]
  },
  {
   "cell_type": "code",
   "execution_count": null,
   "metadata": {},
   "outputs": [],
   "source": [
    "labels = mbti['type'].unique()\n",
    "row, col = 4, 4\n",
    "#fig, ax = plt.subplots(4, 4, figsize=(100,100))\n",
    "for i in range(4):\n",
    "    for j in range(4):\n",
    "        cur_type = labels[i*col+j]\n",
    "\n",
    "        df7 = mbti[mbti['type'] == cur_type]\n",
    "        words = [word for word in str(df7['Cleaned_posts'].to_string()).split()\n",
    "            if word.lower() not in swords and word.isalpha() ]\n",
    "        freqdist = nltk.FreqDist(words)\n",
    "            # print 5 most frequent words\n",
    "        print(cur_type , 'more :', ' , '.join([ word.lower() for word, count in freqdist.most_common(15)]))\n",
    "            # print 5 least frequent words\n",
    "        #print(cur_type , 'less :', ' , '.join([ word.lower() for word, count in freqdist.most_common()[-15:]]))\n",
    "        \n",
    "        freqdist.plot(30,cumulative=False)"
   ]
  },
  {
   "cell_type": "code",
   "execution_count": null,
   "metadata": {},
   "outputs": [],
   "source": [
    "from sklearn.feature_extraction.text import TfidfVectorizer\n",
    "from sklearn.model_selection import train_test_split"
   ]
  },
  {
   "cell_type": "code",
   "execution_count": null,
   "metadata": {},
   "outputs": [],
   "source": [
    "posts = mbti['Cleaned_posts']\n",
    "ptype = mbti['type']"
   ]
  },
  {
   "cell_type": "code",
   "execution_count": null,
   "metadata": {},
   "outputs": [],
   "source": [
    "posts.shape , ptype.shape"
   ]
  },
  {
   "cell_type": "code",
   "execution_count": null,
   "metadata": {},
   "outputs": [],
   "source": [
    "type(posts) , type(ptype)"
   ]
  },
  {
   "cell_type": "code",
   "execution_count": null,
   "metadata": {},
   "outputs": [],
   "source": [
    "from sklearn.decomposition import TruncatedSVD\n",
    "from sklearn.model_selection import train_test_split"
   ]
  },
  {
   "cell_type": "code",
   "execution_count": null,
   "metadata": {},
   "outputs": [],
   "source": [
    "posts.shape , ptype.shape"
   ]
  },
  {
   "cell_type": "code",
   "execution_count": null,
   "metadata": {},
   "outputs": [],
   "source": [
    "tfidf = TfidfVectorizer(#ngram_range=(1, 3), \n",
    "                        stop_words=cachedStopWords,\n",
    "                        max_features = 7000)\n",
    "    \n",
    "#                           max_features = 7000, vocabulary = cntf.vocabulary\n"
   ]
  },
  {
   "cell_type": "code",
   "execution_count": null,
   "metadata": {},
   "outputs": [],
   "source": [
    "tfposts = tfidf.fit_transform(posts)"
   ]
  },
  {
   "cell_type": "code",
   "execution_count": null,
   "metadata": {},
   "outputs": [],
   "source": [
    "tfposts"
   ]
  },
  {
   "cell_type": "code",
   "execution_count": null,
   "metadata": {},
   "outputs": [],
   "source": [
    "tsvd = TruncatedSVD(n_components=500)\n",
    "tposts = tsvd.fit_transform(tfposts)"
   ]
  },
  {
   "cell_type": "code",
   "execution_count": null,
   "metadata": {},
   "outputs": [],
   "source": [
    "tposts.shape"
   ]
  },
  {
   "cell_type": "code",
   "execution_count": null,
   "metadata": {},
   "outputs": [],
   "source": [
    "ptype = pd.get_dummies(ptype)"
   ]
  },
  {
   "cell_type": "code",
   "execution_count": null,
   "metadata": {},
   "outputs": [],
   "source": [
    "ptype.loc[0]"
   ]
  },
  {
   "cell_type": "code",
   "execution_count": null,
   "metadata": {},
   "outputs": [],
   "source": [
    "type(tposts)"
   ]
  },
  {
   "cell_type": "code",
   "execution_count": null,
   "metadata": {},
   "outputs": [],
   "source": [
    "x_train, x_test, y_train, y_test = train_test_split(tposts, ptype, test_size=0.1, stratify=ptype, random_state=42)"
   ]
  },
  {
   "cell_type": "code",
   "execution_count": null,
   "metadata": {},
   "outputs": [],
   "source": [
    "x_train.shape , y_train.shape"
   ]
  },
  {
   "cell_type": "code",
   "execution_count": null,
   "metadata": {},
   "outputs": [],
   "source": [
    "x_test.shape , y_test.shape"
   ]
  },
  {
   "cell_type": "code",
   "execution_count": null,
   "metadata": {},
   "outputs": [],
   "source": [
    "import keras\n",
    "from keras.models import Sequential\n",
    "from keras.layers import Dense, Dropout\n",
    "from keras import regularizers"
   ]
  },
  {
   "cell_type": "code",
   "execution_count": null,
   "metadata": {},
   "outputs": [],
   "source": [
    "y_train.values"
   ]
  },
  {
   "cell_type": "code",
   "execution_count": null,
   "metadata": {},
   "outputs": [],
   "source": [
    "x_train[0].shape"
   ]
  },
  {
   "cell_type": "code",
   "execution_count": null,
   "metadata": {},
   "outputs": [],
   "source": [
    "#model architecture\n",
    "model = Sequential([Dense(321, activation='relu',kernel_regularizer=regularizers.l2(0.01), input_shape = (x_train[0].shape)),#,kernel_regularizer=regularizers.l1(0.01)\n",
    "                    Dropout(0.5, noise_shape=None, seed=None),\n",
    "                    Dense(152, activation='relu'),# \n",
    "                    Dropout(0.5, noise_shape=None, seed=None),\n",
    "                    #Dense(51, activation='relu', kernel_regularizer=regularizers.l2(0.01)),\n",
    "                    #Dropout(0.5, noise_shape=None, seed=None),\n",
    "                    Dense(16, activation='softmax')])"
   ]
  },
  {
   "cell_type": "code",
   "execution_count": null,
   "metadata": {},
   "outputs": [],
   "source": [
    "model.summary()"
   ]
  },
  {
   "cell_type": "code",
   "execution_count": null,
   "metadata": {},
   "outputs": [],
   "source": [
    "adam = keras.optimizers.adam(lr = 0.001)\n",
    "model.compile(loss = 'categorical_crossentropy',\n",
    "              optimizer = adam,\n",
    "              metrics = ['accuracy'])"
   ]
  },
  {
   "cell_type": "code",
   "execution_count": null,
   "metadata": {},
   "outputs": [],
   "source": [
    "history = model.fit( x_train , y_train , epochs = 30, validation_split = 0.2 , verbose=2)"
   ]
  },
  {
   "cell_type": "code",
   "execution_count": null,
   "metadata": {},
   "outputs": [],
   "source": [
    "plt.plot(history.epoch, history.history['loss'], 'b',\n",
    "         history.epoch, history.history['val_loss'], 'k',\n",
    "        history.epoch, history.history['acc'], 'r',\n",
    "         history.epoch, history.history['val_acc'], 'm'\n",
    "        )"
   ]
  },
  {
   "cell_type": "code",
   "execution_count": null,
   "metadata": {},
   "outputs": [],
   "source": [
    "model.evaluate(x_test, y_test)"
   ]
  },
  {
   "cell_type": "code",
   "execution_count": null,
   "metadata": {},
   "outputs": [],
   "source": []
  },
  {
   "cell_type": "code",
   "execution_count": null,
   "metadata": {},
   "outputs": [],
   "source": []
  }
 ],
 "metadata": {
  "kernelspec": {
   "display_name": "Python 3",
   "language": "python",
   "name": "python3"
  },
  "language_info": {
   "codemirror_mode": {
    "name": "ipython",
    "version": 3
   },
   "file_extension": ".py",
   "mimetype": "text/x-python",
   "name": "python",
   "nbconvert_exporter": "python",
   "pygments_lexer": "ipython3",
   "version": "3.7.1"
  }
 },
 "nbformat": 4,
 "nbformat_minor": 2
}
